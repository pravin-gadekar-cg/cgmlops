{
 "cells": [
  {
   "cell_type": "markdown",
   "metadata": {},
   "source": [
    "## Step 0 - Configuration of Kubeflow"
   ]
  },
  {
   "cell_type": "code",
   "execution_count": 9,
   "metadata": {},
   "outputs": [],
   "source": [
    "PIPELINES_HOST='1ececdcaa6ca20d7-dot-us-central2.pipelines.googleusercontent.com'\n",
    "PROJECT='ind-coe'\n",
    "BUCKET='cgmlops-demo'"
   ]
  },
  {
   "cell_type": "code",
   "execution_count": 10,
   "metadata": {},
   "outputs": [],
   "source": [
    "import kfp\n",
    "import os\n",
    "client = kfp.Client(host=PIPELINES_HOST)"
   ]
  },
  {
   "cell_type": "code",
   "execution_count": 11,
   "metadata": {},
   "outputs": [
    {
     "data": {
      "text/plain": [
       "{'next_page_token': None,\n",
       " 'pipelines': [{'created_at': datetime.datetime(2020, 9, 7, 10, 32, 32, tzinfo=tzlocal()),\n",
       "                'default_version': {'code_source_url': None,\n",
       "                                    'created_at': datetime.datetime(2020, 9, 7, 16, 36, 34, tzinfo=tzlocal()),\n",
       "                                    'id': '82cec00e-e771-48a8-9fa9-85a777a9f268',\n",
       "                                    'name': 'cgmlops_v2',\n",
       "                                    'package_url': None,\n",
       "                                    'parameters': [{'name': 'project',\n",
       "                                                    'value': 'ind-coe'},\n",
       "                                                   {'name': 'bucket',\n",
       "                                                    'value': 'cgmlops-demo'},\n",
       "                                                   {'name': 'start_year',\n",
       "                                                    'value': '2008'}],\n",
       "                                    'resource_references': [{'key': {'id': 'e656d11a-53f4-4cee-a408-d7946ca4b254',\n",
       "                                                                     'type': 'PIPELINE'},\n",
       "                                                             'name': None,\n",
       "                                                             'relationship': 'OWNER'}]},\n",
       "                'description': 'CG MlOps',\n",
       "                'error': None,\n",
       "                'id': 'e656d11a-53f4-4cee-a408-d7946ca4b254',\n",
       "                'name': 'cgmlops',\n",
       "                'parameters': [{'name': 'project', 'value': 'ind-coe'},\n",
       "                               {'name': 'bucket', 'value': 'cgmlops-demo'},\n",
       "                               {'name': 'start_year', 'value': '2008'}],\n",
       "                'url': None}],\n",
       " 'total_size': 1}"
      ]
     },
     "execution_count": 11,
     "metadata": {},
     "output_type": "execute_result"
    }
   ],
   "source": [
    "client.list_pipelines()"
   ]
  },
  {
   "cell_type": "markdown",
   "metadata": {},
   "source": [
    "## Initial Setup - Build Docker Containers\n",
    "\n",
    "* Process 1 - Preprocessing (BQ to CSV) \n",
    "* Process 2 - Hyper Parameter Training\n",
    "* Process 3 - Training \n",
    "* Process 4 - Deploy AI Platform\n",
    "* Process 5 - Deploy Application "
   ]
  },
  {
   "cell_type": "code",
   "execution_count": null,
   "metadata": {},
   "outputs": [],
   "source": [
    "# Build all notebooks and scripts (Step 1 - Step 5) \n",
    "%%bash\n",
    "cd pipelines/containers\n",
    "bash build_all.sh"
   ]
  },
  {
   "cell_type": "code",
   "execution_count": null,
   "metadata": {},
   "outputs": [],
   "source": [
    "# Build only one containers\n",
    "%%bash\n",
    "cd pipelines/containers\n",
    "bash build_one.sh"
   ]
  },
  {
   "cell_type": "markdown",
   "metadata": {},
   "source": [
    "## Initial Setup - Kubeflow Pipeline Compilation"
   ]
  },
  {
   "cell_type": "code",
   "execution_count": null,
   "metadata": {},
   "outputs": [],
   "source": [
    "%%bash\n",
    "cd pipelines/containers\n",
    "dsl-compile --py ./pipeline/mlp_babyweight.py --function preprocess_train_and_deploy --output pipeline.tar.gz"
   ]
  },
  {
   "cell_type": "code",
   "execution_count": null,
   "metadata": {},
   "outputs": [],
   "source": [
    "pipeline_version_name=\"cgmlops_v2\"\n",
    "pipeline_version_file_path=\"/home/jupyter/cgmlops/pipeline.yaml\"\n",
    "pipeline_version_file = os.path.join(pipeline_version_file_path)\n",
    "pipeline_version = client.pipeline_uploads.upload_pipeline_version(pipeline_version_file,\n",
    "                                                                   name=pipeline_version_name,\n",
    "                                                                   pipelineid='e656d11a-53f4-4cee-a408-d7946ca4b254')"
   ]
  },
  {
   "cell_type": "markdown",
   "metadata": {},
   "source": [
    "%%bash\n",
    "cd pipelines/containers\n",
    "./setup_github_trigger.sh"
   ]
  },
  {
   "cell_type": "markdown",
   "metadata": {},
   "source": [
    "## CICD - Execute the Experiment"
   ]
  },
  {
   "cell_type": "code",
   "execution_count": 12,
   "metadata": {},
   "outputs": [
    {
     "data": {
      "text/html": [
       "Experiment link <a href=\"http://1ececdcaa6ca20d7-dot-us-central2.pipelines.googleusercontent.com/#/experiments/details/4136b557-2d4a-4b3f-a10a-2336933b69a4\" target=\"_blank\" >here</a>"
      ],
      "text/plain": [
       "<IPython.core.display.HTML object>"
      ]
     },
     "metadata": {},
     "output_type": "display_data"
    },
    {
     "data": {
      "text/html": [
       "Run link <a href=\"http://1ececdcaa6ca20d7-dot-us-central2.pipelines.googleusercontent.com/#/runs/details/d3100191-11e6-4e33-968e-eaf6a074886b\" target=\"_blank\" >here</a>"
      ],
      "text/plain": [
       "<IPython.core.display.HTML object>"
      ]
     },
     "metadata": {},
     "output_type": "display_data"
    }
   ],
   "source": [
    "from pipelines.containers.pipeline import mlp_babyweight\n",
    "\n",
    "args = {\n",
    "    'project' : PROJECT, \n",
    "    'bucket' : BUCKET\n",
    "}\n",
    "\n",
    "pipeline = client.create_run_from_pipeline_func(mlp_babyweight.preprocess_train_and_deploy, args)"
   ]
  },
  {
   "cell_type": "markdown",
   "metadata": {},
   "source": [
    "## CICD - Scenario 2 - Modify one of the notebook script or python notebook in GitHub (bqtocsv)"
   ]
  },
  {
   "cell_type": "markdown",
   "metadata": {},
   "source": [
    "## CICD - Scenario 2 - Execution of Retrain and Deploy Step alone"
   ]
  },
  {
   "cell_type": "code",
   "execution_count": null,
   "metadata": {},
   "outputs": [],
   "source": [
    "#os.environ['HPARAM_JOB'] = 'babyweight_200207_231639' # change to job from complete step\n",
    "pipeline = client.create_run_from_pipeline_func(mlp_babyweight.train_and_deploy, args)"
   ]
  },
  {
   "cell_type": "code",
   "execution_count": null,
   "metadata": {},
   "outputs": [],
   "source": []
  }
 ],
 "metadata": {
  "environment": {
   "name": "tf2-2-3-gpu.2-3.m55",
   "type": "gcloud",
   "uri": "gcr.io/deeplearning-platform-release/tf2-2-3-gpu.2-3:m55"
  },
  "kernelspec": {
   "display_name": "Python 3",
   "language": "python",
   "name": "python3"
  },
  "language_info": {
   "codemirror_mode": {
    "name": "ipython",
    "version": 3
   },
   "file_extension": ".py",
   "mimetype": "text/x-python",
   "name": "python",
   "nbconvert_exporter": "python",
   "pygments_lexer": "ipython3",
   "version": "3.7.8"
  }
 },
 "nbformat": 4,
 "nbformat_minor": 4
}
